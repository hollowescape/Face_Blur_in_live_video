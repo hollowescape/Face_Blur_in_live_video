{
 "cells": [
  {
   "cell_type": "code",
   "execution_count": 1,
   "id": "49560379",
   "metadata": {},
   "outputs": [],
   "source": [
    "import cv2"
   ]
  },
  {
   "cell_type": "code",
   "execution_count": 24,
   "id": "84550587",
   "metadata": {},
   "outputs": [],
   "source": [
    "cap = cv2.VideoCapture(0)"
   ]
  },
  {
   "cell_type": "code",
   "execution_count": 3,
   "id": "b0d1f702",
   "metadata": {},
   "outputs": [],
   "source": [
    "model = cv2.CascadeClassifier('haarcascade_frontalface_default.xml')"
   ]
  },
  {
   "cell_type": "code",
   "execution_count": null,
   "id": "d41b4375",
   "metadata": {},
   "outputs": [],
   "source": [
    "ret , photo = cap.read()"
   ]
  },
  {
   "cell_type": "code",
   "execution_count": null,
   "id": "ebf5d296",
   "metadata": {},
   "outputs": [],
   "source": [
    "while True:\n",
    "    ret , photo = cap.read()\n",
    "    fdetect = model.detectMultiScale(photo)\n",
    "    cv2.imshow(\"hi\",photo)\n",
    "    if cv2.waitKey(100)==13:\n",
    "        break\n",
    "cv2.destroyAllWindows()"
   ]
  },
  {
   "cell_type": "code",
   "execution_count": 26,
   "id": "61cf632c",
   "metadata": {},
   "outputs": [],
   "source": [
    "cap.release()"
   ]
  },
  {
   "cell_type": "code",
   "execution_count": null,
   "id": "09eb2393",
   "metadata": {},
   "outputs": [],
   "source": [
    "fdetect = model.detectMultiScale(photo)"
   ]
  },
  {
   "cell_type": "code",
   "execution_count": null,
   "id": "a7a29cac",
   "metadata": {},
   "outputs": [],
   "source": [
    "if len(fdetect) == 0:\n",
    "    print(\"no face\")\n",
    "else :\n",
    "    print(\" we have faces\")\n",
    "    "
   ]
  },
  {
   "cell_type": "code",
   "execution_count": null,
   "id": "4a0476c1",
   "metadata": {},
   "outputs": [],
   "source": [
    "x1 =fdetect[0][0]"
   ]
  },
  {
   "cell_type": "code",
   "execution_count": null,
   "id": "113dfd32",
   "metadata": {},
   "outputs": [],
   "source": [
    "y1 =fdetect[0][1]"
   ]
  },
  {
   "cell_type": "code",
   "execution_count": null,
   "id": "e386434a",
   "metadata": {},
   "outputs": [],
   "source": [
    "x2 = x1 + fdetect[0][2]"
   ]
  },
  {
   "cell_type": "code",
   "execution_count": null,
   "id": "ffb05db1",
   "metadata": {},
   "outputs": [],
   "source": [
    "y2 = y1 + fdetect[0][3]"
   ]
  },
  {
   "cell_type": "code",
   "execution_count": null,
   "id": "51b3d8b5",
   "metadata": {},
   "outputs": [],
   "source": [
    "rphoto = cv2.rectangle(photo,(x1,y1),(x2,y2),[0,255,0],2)"
   ]
  },
  {
   "cell_type": "code",
   "execution_count": null,
   "id": "6eeba76f",
   "metadata": {},
   "outputs": [],
   "source": [
    "cv2.imshow(\"hi\",rphoto)\n",
    "cv2.waitKey()\n",
    "cv2.destroyAllWindows()"
   ]
  },
  {
   "cell_type": "code",
   "execution_count": null,
   "id": "047bd081",
   "metadata": {},
   "outputs": [],
   "source": [
    "crphoto = photo[y1:y2,x1:x2]"
   ]
  },
  {
   "cell_type": "code",
   "execution_count": null,
   "id": "d6f0cf3e",
   "metadata": {},
   "outputs": [],
   "source": [
    "cv2.imshow(\"hi\",crphoto)\n",
    "cv2.waitKey()\n",
    "cv2.destroyAllWindows()"
   ]
  },
  {
   "cell_type": "code",
   "execution_count": 25,
   "id": "1f0feefa",
   "metadata": {},
   "outputs": [],
   "source": [
    "while True:\n",
    "    ret , photo = cap.read()\n",
    "    fdetect = model.detectMultiScale(photo)\n",
    "    if len(fdetect) == 0:\n",
    "        cv2.imshow(\"hi\",photo)\n",
    "    else:\n",
    "        x1 =fdetect[0][0]\n",
    "        y1 =fdetect[0][1]\n",
    "        x2 = x1 + fdetect[0][2]\n",
    "        y2 = y1 + fdetect[0][3]\n",
    "        rphoto = cv2.rectangle(photo,(x1,y1),(x2,y2),[0,255,0],2)\n",
    "        crphoto = photo[y1:y2,x1:x2]\n",
    "        bphoto = cv2.blur(crphoto,(15,15))\n",
    "        rphoto[y1:y2,x1:x2] = bphoto \n",
    "        cv2.imshow(\"hi\",rphoto)\n",
    "    if  cv2.waitKey(100) == 13:\n",
    "        break\n",
    "cv2.destroyAllWindows()"
   ]
  },
  {
   "cell_type": "code",
   "execution_count": 21,
   "id": "7e280ae4",
   "metadata": {},
   "outputs": [
    {
     "data": {
      "text/plain": [
       "(263, 263, 3)"
      ]
     },
     "execution_count": 21,
     "metadata": {},
     "output_type": "execute_result"
    }
   ],
   "source": [
    "bphoto.shape"
   ]
  },
  {
   "cell_type": "code",
   "execution_count": 22,
   "id": "cce4a3c1",
   "metadata": {},
   "outputs": [
    {
     "data": {
      "text/plain": [
       "(480, 640, 3)"
      ]
     },
     "execution_count": 22,
     "metadata": {},
     "output_type": "execute_result"
    }
   ],
   "source": [
    "rphoto.shape"
   ]
  },
  {
   "cell_type": "code",
   "execution_count": 23,
   "id": "e562ba4e",
   "metadata": {},
   "outputs": [],
   "source": [
    "rphoto[y1:y2,x1:x2] = bphoto "
   ]
  },
  {
   "cell_type": "code",
   "execution_count": null,
   "id": "e5bbf613",
   "metadata": {},
   "outputs": [],
   "source": []
  },
  {
   "cell_type": "code",
   "execution_count": null,
   "id": "7834c267",
   "metadata": {},
   "outputs": [],
   "source": []
  },
  {
   "cell_type": "code",
   "execution_count": null,
   "id": "88312d18",
   "metadata": {},
   "outputs": [],
   "source": []
  },
  {
   "cell_type": "code",
   "execution_count": null,
   "id": "391db5b4",
   "metadata": {},
   "outputs": [],
   "source": []
  },
  {
   "cell_type": "code",
   "execution_count": null,
   "id": "0a7f2c26",
   "metadata": {},
   "outputs": [],
   "source": []
  }
 ],
 "metadata": {
  "kernelspec": {
   "display_name": "Python 3 (ipykernel)",
   "language": "python",
   "name": "python3"
  },
  "language_info": {
   "codemirror_mode": {
    "name": "ipython",
    "version": 3
   },
   "file_extension": ".py",
   "mimetype": "text/x-python",
   "name": "python",
   "nbconvert_exporter": "python",
   "pygments_lexer": "ipython3",
   "version": "3.8.10"
  }
 },
 "nbformat": 4,
 "nbformat_minor": 5
}
